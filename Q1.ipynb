{
  "nbformat": 4,
  "nbformat_minor": 0,
  "metadata": {
    "colab": {
      "provenance": [],
      "authorship_tag": "ABX9TyNkg/rZ8bM8VLPvtQjbunYU",
      "include_colab_link": true
    },
    "kernelspec": {
      "name": "python3",
      "display_name": "Python 3"
    },
    "language_info": {
      "name": "python"
    }
  },
  "cells": [
    {
      "cell_type": "markdown",
      "metadata": {
        "id": "view-in-github",
        "colab_type": "text"
      },
      "source": [
        "<a href=\"https://colab.research.google.com/github/2303A51795/REINFORCEMENT-LEARNING-BATCH12-2303A51795/blob/main/Q1.ipynb\" target=\"_parent\"><img src=\"https://colab.research.google.com/assets/colab-badge.svg\" alt=\"Open In Colab\"/></a>"
      ]
    },
    {
      "cell_type": "markdown",
      "source": [
        "**Implemeting the value iteration and policy iteration for simple MDPs**"
      ],
      "metadata": {
        "id": "-8V3R1M63V5k"
      }
    },
    {
      "cell_type": "code",
      "execution_count": 1,
      "metadata": {
        "colab": {
          "base_uri": "https://localhost:8080/"
        },
        "id": "UugOypU92RmZ",
        "outputId": "ff1c6c54-3053-414e-a8e5-ccebc2453973"
      },
      "outputs": [
        {
          "output_type": "stream",
          "name": "stdout",
          "text": [
            "Value Iteration Policy: [1 1 0]\n",
            "Value Iteration Value Function: [10. 10.  0.]\n",
            "Policy Iteration Policy: [1 1 0]\n",
            "Policy Iteration Value Function: [10. 10.  0.]\n"
          ]
        }
      ],
      "source": [
        "import numpy as np\n",
        "\n",
        "# Define the MDP\n",
        "states = [0, 1, 2]\n",
        "actions = [0, 1]\n",
        "gamma = 0.9  # discount factor\n",
        "theta = 1e-6  # threshold for convergence\n",
        "\n",
        "# Transition model: P[s][a] = list of (prob, next_state, reward)\n",
        "P = {\n",
        "    0: {\n",
        "        0: [(1.0, 0, 0)],\n",
        "        1: [(1.0, 1, 1)],\n",
        "    },\n",
        "    1: {\n",
        "        0: [(1.0, 0, 0)],\n",
        "        1: [(1.0, 2, 10)],\n",
        "    },\n",
        "    2: {\n",
        "        0: [(1.0, 2, 0)],\n",
        "        1: [(1.0, 2, 0)],\n",
        "    }\n",
        "}\n",
        "\n",
        "# ----------------------------------------\n",
        "# VALUE ITERATION\n",
        "# ----------------------------------------\n",
        "\n",
        "def value_iteration(P, states, actions, gamma, theta):\n",
        "    V = np.zeros(len(states))\n",
        "    policy = np.zeros(len(states), dtype=int)\n",
        "\n",
        "    while True:\n",
        "        delta = 0\n",
        "        for s in states:\n",
        "            v = V[s]\n",
        "            action_values = []\n",
        "            for a in actions:\n",
        "                q_sa = sum(prob * (reward + gamma * V[s_]) for prob, s_, reward in P[s][a])\n",
        "                action_values.append(q_sa)\n",
        "            V[s] = max(action_values)\n",
        "            delta = max(delta, abs(v - V[s]))\n",
        "        if delta < theta:\n",
        "            break\n",
        "\n",
        "    # Extract policy\n",
        "    for s in states:\n",
        "        action_values = []\n",
        "        for a in actions:\n",
        "            q_sa = sum(prob * (reward + gamma * V[s_]) for prob, s_, reward in P[s][a])\n",
        "            action_values.append(q_sa)\n",
        "        policy[s] = np.argmax(action_values)\n",
        "\n",
        "    return policy, V\n",
        "\n",
        "\n",
        "# ----------------------------------------\n",
        "# POLICY ITERATION\n",
        "# ----------------------------------------\n",
        "\n",
        "def policy_evaluation(policy, P, states, actions, gamma, theta):\n",
        "    V = np.zeros(len(states))\n",
        "    while True:\n",
        "        delta = 0\n",
        "        for s in states:\n",
        "            v = V[s]\n",
        "            a = policy[s]\n",
        "            V[s] = sum(prob * (reward + gamma * V[s_]) for prob, s_, reward in P[s][a])\n",
        "            delta = max(delta, abs(v - V[s]))\n",
        "        if delta < theta:\n",
        "            break\n",
        "    return V\n",
        "\n",
        "def policy_iteration(P, states, actions, gamma, theta):\n",
        "    policy = np.zeros(len(states), dtype=int)\n",
        "    stable = False\n",
        "\n",
        "    while not stable:\n",
        "        V = policy_evaluation(policy, P, states, actions, gamma, theta)\n",
        "        stable = True\n",
        "        for s in states:\n",
        "            old_action = policy[s]\n",
        "            action_values = []\n",
        "            for a in actions:\n",
        "                q_sa = sum(prob * (reward + gamma * V[s_]) for prob, s_, reward in P[s][a])\n",
        "                action_values.append(q_sa)\n",
        "            best_action = np.argmax(action_values)\n",
        "            if old_action != best_action:\n",
        "                stable = False\n",
        "                policy[s] = best_action\n",
        "    return policy, V\n",
        "\n",
        "\n",
        "# Run algorithms\n",
        "vi_policy, vi_value = value_iteration(P, states, actions, gamma, theta)\n",
        "pi_policy, pi_value = policy_iteration(P, states, actions, gamma, theta)\n",
        "\n",
        "print(\"Value Iteration Policy:\", vi_policy)\n",
        "print(\"Value Iteration Value Function:\", vi_value)\n",
        "print(\"Policy Iteration Policy:\", pi_policy)\n",
        "print(\"Policy Iteration Value Function:\", pi_value)"
      ]
    }
  ]
}